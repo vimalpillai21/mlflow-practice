{
 "cells": [
  {
   "cell_type": "code",
   "execution_count": 1,
   "id": "871eeae6-4107-4476-95ac-53a991fc0cc4",
   "metadata": {},
   "outputs": [],
   "source": [
    "import mlflow\n",
    "from mlflow.models import infer_signature\n",
    "\n",
    "from sklearn.model_selection import train_test_split\n",
    "from sklearn.datasets import load_diabetes\n",
    "from sklearn.ensemble import RandomForestRegressor"
   ]
  },
  {
   "cell_type": "code",
   "execution_count": 2,
   "id": "c0b0ee06-d69d-414e-8e52-4bba147ba6fc",
   "metadata": {},
   "outputs": [],
   "source": [
    "mlflow.set_tracking_uri(\"http://192.168.7.95:8000\")"
   ]
  },
  {
   "cell_type": "code",
   "execution_count": 3,
   "id": "f50f3de5-f64b-4b88-91d4-e62a4aa8c8ab",
   "metadata": {},
   "outputs": [
    {
     "name": "stdout",
     "output_type": "stream",
     "text": [
      "[146.61147755 191.94410308 237.42956349 191.29881466 122.58335914\n",
      " 246.03794202 218.89848234 133.71749194 216.14903654  86.3726373\n",
      " 200.47907111 185.0431858  195.56205524  93.01589048 148.36044343\n",
      " 245.93281943 177.60726675 175.34886341 220.53633877 161.73622008\n",
      " 222.40084942  93.47859559 106.25362915 153.01845983 157.98726727\n",
      " 126.48418564 213.51538917 195.44461024 152.79752151  99.25889889\n",
      "  98.28695737 149.08229532 185.40622376 241.61906327  97.80394479\n",
      "  97.87537098 105.34079099  97.62214023 126.66473466  99.95115738\n",
      " 186.10547562 129.66912715 213.49721255 108.47313468 139.76852316\n",
      " 165.28393897  87.97708085  76.76068544  86.89043693 164.41588751\n",
      " 176.69376711  87.42595825 133.76300613  81.31060405 202.96349797\n",
      " 180.07020349 208.40319745 161.24952133 226.92684366 139.94553276\n",
      " 215.73028001  87.50844755 153.60893233  99.22940367 175.12718835\n",
      " 220.60564844 109.23180692 133.28242764  96.61468898 166.11589604\n",
      " 104.43898822 176.19811369 105.44767844 163.01716453  99.5851709\n",
      " 104.59643597 130.06144988 203.79858128 252.01578755 106.07174757\n",
      " 162.87477018 257.89213519  81.98841225 196.41194266 159.59455158\n",
      " 110.85407684 155.40800724 127.11403241 191.38190653 108.3864908\n",
      "  92.80340128 140.40536685 167.22686423 205.89460874 157.85228373\n",
      "  82.56723953 103.2902849  229.82754263  88.28293144 140.01456366\n",
      " 160.35675319  88.76123871 100.18935113  84.44806612 135.93515925\n",
      " 207.73581963 144.61299509  80.01953421 208.49546067  90.91002888\n",
      "  90.84645575]\n",
      "Run ID: 4d2efcba09834757a4b240219136d26c\n"
     ]
    },
    {
     "name": "stderr",
     "output_type": "stream",
     "text": [
      "/home/vimalp/anaconda3/envs/pytorch/lib/python3.9/site-packages/_distutils_hack/__init__.py:33: UserWarning: Setuptools is replacing distutils.\n",
      "  warnings.warn(\"Setuptools is replacing distutils.\")\n"
     ]
    }
   ],
   "source": [
    "with mlflow.start_run() as run:\n",
    "    # Load the diabetes dataset.\n",
    "    db = load_diabetes()\n",
    "    X_train, X_test, y_train, y_test = train_test_split(db.data, db.target)\n",
    "\n",
    "    # Create and train models.\n",
    "    rf = RandomForestRegressor(n_estimators=100, max_depth=6, max_features=3)\n",
    "    rf.fit(X_train, y_train)\n",
    "\n",
    "    # Use the model to make predictions on the test dataset.\n",
    "    predictions = rf.predict(X_test)\n",
    "    print(predictions)\n",
    "\n",
    "    signature = infer_signature(X_test, predictions)\n",
    "    mlflow.sklearn.log_model(rf, \"model\", signature=signature)\n",
    "\n",
    "    print(\"Run ID: {}\".format(run.info.run_id))"
   ]
  }
 ],
 "metadata": {
  "kernelspec": {
   "display_name": "Python 3 (ipykernel)",
   "language": "python",
   "name": "python3"
  },
  "language_info": {
   "codemirror_mode": {
    "name": "ipython",
    "version": 3
   },
   "file_extension": ".py",
   "mimetype": "text/x-python",
   "name": "python",
   "nbconvert_exporter": "python",
   "pygments_lexer": "ipython3",
   "version": "3.9.16"
  }
 },
 "nbformat": 4,
 "nbformat_minor": 5
}
