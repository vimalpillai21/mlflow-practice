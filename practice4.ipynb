{
 "cells": [
  {
   "cell_type": "code",
   "execution_count": 1,
   "id": "240e519f-d22f-4af8-95ae-f97441fe7c6e",
   "metadata": {},
   "outputs": [],
   "source": [
    "import mlflow"
   ]
  },
  {
   "cell_type": "code",
   "execution_count": 2,
   "id": "2c1dd82e-351a-4df3-a422-3e19525a4d64",
   "metadata": {},
   "outputs": [],
   "source": [
    "from sklearn.model_selection import train_test_split\n",
    "from sklearn.datasets import load_diabetes"
   ]
  },
  {
   "cell_type": "code",
   "execution_count": 3,
   "id": "61973dc2-5cb0-4a06-86a5-eeb0cad8e171",
   "metadata": {},
   "outputs": [],
   "source": [
    "mlflow.set_tracking_uri(\"http://192.168.7.95:8000\")"
   ]
  },
  {
   "cell_type": "code",
   "execution_count": 4,
   "id": "4718ab91-9ac1-4a26-bd61-f23a8c06f031",
   "metadata": {},
   "outputs": [],
   "source": [
    "db = load_diabetes()\n",
    "X_train, X_test, y_train, y_test = train_test_split(db.data,db.target)"
   ]
  },
  {
   "cell_type": "code",
   "execution_count": 17,
   "id": "69670cb0-2d3f-4563-9637-3d9e36459b48",
   "metadata": {},
   "outputs": [],
   "source": [
    "model = mlflow.sklearn.load_model(\"runs:/4d2efcba09834757a4b240219136d26c/model\")\n",
    "predictions = model.predict(X_test)"
   ]
  },
  {
   "cell_type": "code",
   "execution_count": 18,
   "id": "ed5b2af3-a892-4c4f-b783-991372a4c177",
   "metadata": {},
   "outputs": [
    {
     "name": "stdout",
     "output_type": "stream",
     "text": [
      "[176.19811369  90.22853814 232.14505817 174.97639332 174.53421588\n",
      " 160.35675319 206.64569111 197.4372248  219.69940616  99.54835054\n",
      " 259.52300289 110.85407684  86.57674261 109.44011761 127.11403241\n",
      "  87.39275831  88.49289071  94.89300858 265.559322   170.55187726\n",
      " 205.89460874 180.07020349 157.98726727 218.29543618  88.1692204\n",
      "  86.91349336 102.27205506 242.51152922 167.76671316 208.35286659\n",
      "  87.94551599 184.48758977 140.01456366 159.64668235 202.97753109\n",
      "  87.08443476 269.60359011 179.28384607  73.19405538 195.56205524\n",
      " 172.08130659 147.80312388 104.59643597 175.34886341 103.2902849\n",
      " 258.9293903  256.82102644 106.94867848 110.42142911  88.76123871\n",
      " 262.95839317 251.78390661 189.5717491   98.48702279  78.52198389\n",
      " 220.60564844 133.83210554 133.76300613  97.44944913  97.80394479\n",
      " 167.22686423 170.66790429  81.75278752 182.33137548 223.88042142\n",
      "  82.17240547 208.52917078 165.68410556 124.52728408 110.14184145\n",
      " 144.66245784 200.47907111  90.84645575 133.37676207 138.31898247\n",
      "  93.47859559 113.30765672 208.40319745 192.4830631  272.77884914\n",
      " 228.25990088 108.38910684 138.78001807 111.96732951 149.08229532\n",
      " 112.19649569 213.51538917 259.6328305   90.49807593 276.00220024\n",
      " 208.36796963 180.26455093  91.49487888 130.22662377 109.62780839\n",
      " 246.95873329 103.3999398  207.47945258 131.95278625 162.87477018\n",
      "  84.44806612 223.86468837 266.86873039 103.72464353 175.12718835\n",
      " 260.50312142 147.99504035 134.86785541  97.92561631  76.78167837\n",
      " 175.57968393]\n"
     ]
    }
   ],
   "source": [
    "print(predictions)"
   ]
  },
  {
   "cell_type": "code",
   "execution_count": null,
   "id": "36a74936-a261-47af-9902-0d1ab6a41a0d",
   "metadata": {},
   "outputs": [],
   "source": []
  }
 ],
 "metadata": {
  "kernelspec": {
   "display_name": "Python 3 (ipykernel)",
   "language": "python",
   "name": "python3"
  },
  "language_info": {
   "codemirror_mode": {
    "name": "ipython",
    "version": 3
   },
   "file_extension": ".py",
   "mimetype": "text/x-python",
   "name": "python",
   "nbconvert_exporter": "python",
   "pygments_lexer": "ipython3",
   "version": "3.9.16"
  }
 },
 "nbformat": 4,
 "nbformat_minor": 5
}
