{
 "cells": [
  {
   "cell_type": "code",
   "execution_count": 1,
   "id": "1406cf31-e1f1-486c-b180-538cb048221b",
   "metadata": {},
   "outputs": [],
   "source": [
    "import os\n",
    "from random import random, randint"
   ]
  },
  {
   "cell_type": "code",
   "execution_count": 2,
   "id": "c3b8170a-3d1e-429e-927e-e293232ec249",
   "metadata": {},
   "outputs": [],
   "source": [
    "from mlflow import log_artifact, log_metric, log_param, log_params"
   ]
  },
  {
   "cell_type": "code",
   "execution_count": 3,
   "id": "3a788500-2623-455c-a782-e8929b65b198",
   "metadata": {},
   "outputs": [],
   "source": [
    "import mlflow"
   ]
  },
  {
   "cell_type": "code",
   "execution_count": 4,
   "id": "09a9ac81-ee85-4524-bcc7-aedb014aa0a1",
   "metadata": {},
   "outputs": [],
   "source": [
    "mlflow.set_tracking_uri(\"http://192.168.7.95:8000\")"
   ]
  },
  {
   "cell_type": "code",
   "execution_count": 5,
   "id": "2709c1bc-d55a-482e-acc6-c2fea4358bba",
   "metadata": {},
   "outputs": [],
   "source": [
    "if __name__ == \"__main__\":\n",
    "    # with mlflow.start_run(nested=True):\n",
    "    #     mlflow.log_param(\"config_one\", 56)\n",
    "    mlflow.log_param(\"config_one\", 56)\n",
    "    mlflow.log_params({\"param1\": randint(0,45),\"param2\":randint(0,56)})\n",
    "    mlflow.log_metric(\"accuracy\", random()/20)\n",
    "    mlflow.log_metric(\"accuracy\", random() + 0.1)\n",
    "    mlflow.log_metric(\"accuracy\", random() + 0.45)\n",
    "    \n",
    "    # log an artifact file\n",
    "    if not os.path.exists(\"outputs\"):\n",
    "        os.makedirs(\"outputs\")\n",
    "    with open(\"outputs/random.txt\",\"a+\") as f:\n",
    "        f.write(\" hello world nice to meet you\")\n",
    "    log_artifact(\"outputs\")   "
   ]
  },
  {
   "cell_type": "code",
   "execution_count": null,
   "id": "65e1dc1f-4240-4d3e-aad5-937fc4b08394",
   "metadata": {},
   "outputs": [],
   "source": []
  }
 ],
 "metadata": {
  "kernelspec": {
   "display_name": "Python 3 (ipykernel)",
   "language": "python",
   "name": "python3"
  },
  "language_info": {
   "codemirror_mode": {
    "name": "ipython",
    "version": 3
   },
   "file_extension": ".py",
   "mimetype": "text/x-python",
   "name": "python",
   "nbconvert_exporter": "python",
   "pygments_lexer": "ipython3",
   "version": "3.9.16"
  }
 },
 "nbformat": 4,
 "nbformat_minor": 5
}
